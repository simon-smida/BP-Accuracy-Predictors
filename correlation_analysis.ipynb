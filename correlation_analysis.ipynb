{
 "cells": [
  {
   "attachments": {},
   "cell_type": "markdown",
   "metadata": {},
   "source": [
    "## Correlation Analysis\n",
    "---"
   ]
  },
  {
   "cell_type": "code",
   "execution_count": null,
   "metadata": {},
   "outputs": [],
   "source": [
    "import numpy as np\n",
    "import pandas as pd\n",
    "import seaborn as sns\n",
    "import matplotlib.pyplot as plt\n",
    "\n",
    "from utils import show_correlation_matrix"
   ]
  },
  {
   "attachments": {},
   "cell_type": "markdown",
   "metadata": {},
   "source": [
    "### NAS-Bench-101"
   ]
  },
  {
   "cell_type": "code",
   "execution_count": null,
   "metadata": {},
   "outputs": [],
   "source": [
    "from dataset import NASBench101Dataset\n",
    "\n",
    "dataset = NASBench101Dataset(hdf5_file='data/nasbench101.hdf5')"
   ]
  },
  {
   "attachments": {},
   "cell_type": "markdown",
   "metadata": {},
   "source": [
    "**Architecture description:**\n",
    "- adjacency (connections)\n",
    "- operations (operations)\n",
    "- **Metrics** (in NAS-Bench-101 for {4, 12, 36, 108} epochs and {0, 1, 2} seeds, in this study for 108 epochs and seed 0):\n",
    "  - \\# of trainable parameters (weights)\n",
    "  - training time [s]\n",
    "  - training accuracy\n",
    "  - validation accuracy\n",
    "\n",
    "**Additional (calculated) information:**\n",
    "- network depth\n",
    "- \\# of connections\n",
    "- average \\# of connections per vertex\n",
    "- conv3x3 count\n",
    "- conv1x1 count\n",
    "- max pooling count"
   ]
  },
  {
   "cell_type": "code",
   "execution_count": null,
   "metadata": {},
   "outputs": [],
   "source": [
    "# Example architecture from the NASBench-101 dataset\n",
    "index = 42\n",
    "print(dataset[index]) # Architecture 42/423624"
   ]
  },
  {
   "attachments": {},
   "cell_type": "markdown",
   "metadata": {},
   "source": [
    "### Getting available information about each architecture in `NAS-Bench-101`"
   ]
  },
  {
   "cell_type": "code",
   "execution_count": null,
   "metadata": {},
   "outputs": [],
   "source": [
    "# Warning! takes a long time to run\n",
    "val_accs, test_acc = [], []\n",
    "adj_list, ops_list = [], []\n",
    "num_weights, net_depths, num_vertices, num_connections = [], [], [], []\n",
    "conv3x3_count, conv1x1_count, maxpool3x3_count = [], [], []\n",
    "avg_connections_per_vertex = []\n",
    "train_time = []\n",
    "\n",
    "for arch in dataset:\n",
    "    val_accs.append(arch['val_acc'])\n",
    "    test_acc.append(arch['test_acc'])\n",
    "    adj_list.append(arch['adjacency'])\n",
    "    ops_list.append(arch['operations'])\n",
    "    num_weights.append(arch['trainable_parameters'])\n",
    "    net_depths.append(arch['depth'])\n",
    "    num_vertices.append(arch['num_vertices'])\n",
    "    num_connections.append(arch['num_connections'])\n",
    "    conv3x3_count.append(arch['conv3x3_count'])\n",
    "    conv1x1_count.append(arch['conv1x1_count'])\n",
    "    maxpool3x3_count.append(arch['maxpool3x3_count'])\n",
    "    avg_connections_per_vertex.append(arch['avg_connections_per_vertex'])\n",
    "    train_time.append(arch['training_time'])\n",
    "    \n",
    "val_accs = np.array(val_accs)\n",
    "test_acc = np.array(test_acc)\n",
    "adj_list = np.array(adj_list)\n",
    "ops_list = np.array(ops_list)\n",
    "num_weights = np.array(num_weights)\n",
    "net_depths = np.array(net_depths)\n",
    "num_vertices = np.array(num_vertices)\n",
    "num_connections = np.array(num_connections)\n",
    "conv3x3_count = np.array(conv3x3_count)\n",
    "conv1x1_count = np.array(conv1x1_count)\n",
    "maxpool3x3_count = np.array(maxpool3x3_count)\n",
    "avg_connections_per_vertex = np.array(avg_connections_per_vertex)\n",
    "train_time = np.array(train_time)"
   ]
  },
  {
   "attachments": {},
   "cell_type": "markdown",
   "metadata": {},
   "source": [
    "## Feature Selection\n",
    "\n",
    "In `NAS-Bench-101`, architectures are represented as directed acyclic graphs (DAGs):\n",
    "- **node**: operation (convolutions, pooling)\n",
    "- **edge**: connection between nodes\n",
    "\n",
    "Commonly used features for model-based performance prediction in practice:\n",
    "- **adjacency matrix**: connections between nodes\n",
    "- **operation matrix**: operations of nodes"
   ]
  },
  {
   "cell_type": "code",
   "execution_count": null,
   "metadata": {},
   "outputs": [],
   "source": [
    "# Example of adjacency and operations for architecture 42/423624\n",
    "print(\"Architecture 42/423624\\n----------------------\")\n",
    "print(f\"Adjacency matrix (connections):\\n{adj_list[index]}\\n\")\n",
    "print(f\"Operations (one-hot encoded):\\n{ops_list[index]}\")"
   ]
  },
  {
   "attachments": {},
   "cell_type": "markdown",
   "metadata": {},
   "source": [
    "### Why are adjacency and operation used as features?\n",
    "- compact and structured way to represent the DAG of a network\n",
    "- **adjacency** matrix captures the connectivity pattern of the network\n",
    "- **operations** define the computation performed at each node of the network\n",
    "\n",
    "Through experimentation and empirical analysis, it was found that the mentioned features are a good choice for performance prediction, as they are able to capture the structural information of the network and produce good results."
   ]
  },
  {
   "attachments": {},
   "cell_type": "markdown",
   "metadata": {},
   "source": [
    "### What other information can we get from the architecture representation?\n",
    "- **\\# of trainable parameters** (weights) - could be a good indicator of its complexity\n",
    "- **network depth** - could be a good indicator of its complexity\n",
    "- **counts of different operations** (`conv3x3`, `conv1x1`, `maxpool3x3`) ?\n",
    "- **average number of connections per vertex** ?"
   ]
  },
  {
   "cell_type": "code",
   "execution_count": null,
   "metadata": {},
   "outputs": [],
   "source": [
    "# Example of additional information for architecture 42/423624\n",
    "print(\"Additional information for architecture 42/423624\\n-------------------------------------------------\")\n",
    "print(f\"Number of trainable parameters: {num_weights[index]}\")\n",
    "print(f\"Network depth: {net_depths[index]}\")\n",
    "print(f\"Number of 3x3 convolutions: {int(conv3x3_count[index])}\")\n",
    "print(f\"Number of 1x1 convolutions: {int(conv1x1_count[index])}\")\n",
    "print(f\"Number of maxpool3x3: {int(maxpool3x3_count[index])}\")\n",
    "print(f\"Average number of connections per vertex: {avg_connections_per_vertex[index]:.2f}\")"
   ]
  },
  {
   "attachments": {},
   "cell_type": "markdown",
   "metadata": {},
   "source": [
    "These additional features are calculated in the `dataset.py` file for each architecture and could be used to improve the performance prediction.\n",
    "\n",
    "### How to determine whether a feature is useful or not?\n",
    "- **correlation analysis** - measure the correlation between the feature and the target variable\n",
    "- using feature directly, measure the performance of the model"
   ]
  },
  {
   "attachments": {},
   "cell_type": "markdown",
   "metadata": {},
   "source": [
    "---\n",
    "\n",
    "## Validation vs. Test accuracy (`NAS-Bench-101`)\n",
    "- **validation** and **test** accuracy are both above 90% for most of the architectures\n",
    "- correlation between **validation** and **test** accuracy is high (r=0.99) at 108 epochs"
   ]
  },
  {
   "cell_type": "code",
   "execution_count": null,
   "metadata": {},
   "outputs": [],
   "source": [
    "from scipy.stats import pearsonr\n",
    "\n",
    "# Correlation between validation and test accuracy\n",
    "val_accs_perc = np.array(val_accs) * 100\n",
    "test_acc_perc = np.array(test_acc) * 100\n",
    "\n",
    "print(f\"Correlation coefficient: {pearsonr(val_accs_perc, test_acc_perc)[0]:.4f}\")"
   ]
  },
  {
   "cell_type": "code",
   "execution_count": null,
   "metadata": {},
   "outputs": [],
   "source": [
    "plt.scatter(val_accs_perc, test_acc_perc, s=1)\n",
    "plt.plot([0, 100], [0, 100], color='red', linestyle='-', linewidth=0.5)\n",
    "plt.grid(alpha=0.5)\n",
    "plt.xlabel('Validation Accuracy [%]')\n",
    "plt.ylabel('Test Accuracy [%]')\n",
    "plt.title('Validation vs Test Accuracy (108 Epochs)')\n",
    "plt.show()"
   ]
  },
  {
   "attachments": {},
   "cell_type": "markdown",
   "metadata": {},
   "source": [
    "### Training time - trainable parameters - validation accuracy\n",
    "- inspired by the official [NAS-Bench-101 paper](https://arxiv.org/pdf/1902.09635.pdf)\n",
    "- investigation of the relationship between the **number of parameters**, **training time**, and **validation accuracy** of the models in `NAS-Bench-101`"
   ]
  },
  {
   "cell_type": "code",
   "execution_count": null,
   "metadata": {},
   "outputs": [],
   "source": [
    "# Plot trainable parameters (log scale) vs. training time (minutes) colored by validation accuracy\n",
    "plt.scatter(num_weights, train_time/60, s=1, c=val_accs_perc, cmap='viridis')\n",
    "plt.colorbar(label='Validation Accuracy [%]')\n",
    "plt.grid(alpha=0.2)\n",
    "plt.xscale('log')\n",
    "plt.xlabel('Trainable Parameters (log scale)')\n",
    "plt.ylabel('Training Time [minutes]')\n",
    "plt.title('Trainable Parameters vs Training Time (108 Epochs)')\n",
    "plt.show()"
   ]
  },
  {
   "cell_type": "code",
   "execution_count": null,
   "metadata": {},
   "outputs": [],
   "source": [
    "# Correlation between the number of parameters, training time and validation accuracy\n",
    "data = pd.DataFrame({\n",
    "    \"trainable_params\": num_weights,\n",
    "    \"training_time\": train_time,\n",
    "    \"validation_accuracy\": val_accs\n",
    "})\n",
    "\n",
    "show_correlation_matrix(data)"
   ]
  },
  {
   "attachments": {},
   "cell_type": "markdown",
   "metadata": {},
   "source": [
    "We can see that **training time** and **number of parameters** are highly correlated (`r=0.91`), which is expected, as the number of parameters is a good indicator of the complexity of the model.\n",
    "\n",
    "The **validation accuracy** is only weakly correlated with the **training time** and the **number of parameters** (both `r=0.24`).\n",
    "\n",
    "Because **validation accuracy** is the target in the performance prediction task, in the `analysis.ipynb` notebook, we will compare whether the **number of parameters** has some predictive power for the **validation accuracy** (not expected much better results, as the correlation is weak)."
   ]
  },
  {
   "attachments": {},
   "cell_type": "markdown",
   "metadata": {},
   "source": [
    "### Training time - validation accuracy"
   ]
  },
  {
   "cell_type": "code",
   "execution_count": null,
   "metadata": {},
   "outputs": [],
   "source": [
    "# Validation accuracy (y-axis) vs. number of training time (x-axis) - matplotlib\n",
    "plt.scatter(train_time/60, val_accs_perc, s=0.5)\n",
    "plt.grid(alpha=0.2)\n",
    "plt.xlabel('Training Time [minutes]')\n",
    "plt.ylabel('Validation Accuracy [%]')\n",
    "plt.title('Validation Accuracy vs Training Time (108 Epochs)')\n",
    "plt.ylim(75, 96)\n",
    "plt.xlim(0, 100)\n",
    "plt.show()"
   ]
  },
  {
   "cell_type": "code",
   "execution_count": null,
   "metadata": {},
   "outputs": [],
   "source": [
    "from sklearn.neighbors import KernelDensity\n",
    "# Warning! takes long to run\n",
    "\n",
    "# Get subset of 100_000\n",
    "train_time_new = train_time[:100000]/60  # Convert to minutes\n",
    "val_accs_perc_new = val_accs_perc[:100000]\n",
    "\n",
    "data = np.vstack([train_time_new, val_accs_perc_new]).T\n",
    "\n",
    "# Compute the density estimate\n",
    "kde = KernelDensity(kernel='gaussian', bandwidth=0.05).fit(data)\n",
    "z = np.exp(kde.score_samples(data))\n",
    "\n",
    "# Create a scatter plot with gradient coloring based on the density estimate\n",
    "plt.scatter(train_time_new, val_accs_perc_new, c=z, s=0.5, cmap='viridis', edgecolors='face', alpha=0.75)\n",
    "plt.xlabel('Training Time [minutes]')\n",
    "plt.ylabel('Validation Accuracy [%]')\n",
    "plt.xlim(0, 100)\n",
    "plt.ylim(75, 96)\n",
    "plt.title('Training Time vs Validation Accuracy (108 Epochs)')\n",
    "plt.show()"
   ]
  },
  {
   "cell_type": "code",
   "execution_count": null,
   "metadata": {},
   "outputs": [],
   "source": [
    "# Validation accuracy (y-axis) vs. number of training time (x-axis) - seaborn\n",
    "df = pd.DataFrame({'Validation Accuracy [%]': val_accs_perc, 'Training Time [minutes]': train_time/60})\n",
    "sns.jointplot(x='Training Time [minutes]', y='Validation Accuracy [%]', data=df, kind='hex', gridsize=20)\n",
    "plt.subplots_adjust(top=0.9)\n",
    "plt.suptitle('Validation Accuracy vs Training Time (108 Epochs)', fontsize=12)\n",
    "plt.show()"
   ]
  },
  {
   "attachments": {},
   "cell_type": "markdown",
   "metadata": {},
   "source": [
    "### Number of trainable parameters - validation accuracy"
   ]
  },
  {
   "cell_type": "code",
   "execution_count": null,
   "metadata": {},
   "outputs": [],
   "source": [
    "plt.scatter(num_weights, val_accs_perc, s=0.5)\n",
    "plt.grid(alpha=0.2)\n",
    "plt.xlabel('Number of trainable parameters (log-scale)')\n",
    "plt.xscale('log')\n",
    "plt.ylabel('Validation Accuracy [%]')\n",
    "plt.title('Number of parameters vs Validation Accuracy (108 Epochs)')\n",
    "plt.show()"
   ]
  },
  {
   "cell_type": "code",
   "execution_count": null,
   "metadata": {},
   "outputs": [],
   "source": [
    "# Create a DataFrame with the derived features\n",
    "data = pd.DataFrame({\n",
    "    \"trainable_params\": num_weights,\n",
    "    \"num_connections\": num_connections,\n",
    "    \"network_depth\": net_depths,\n",
    "    \"num_vertices\": num_vertices,\n",
    "    \"avg_connections_per_vertex\": avg_connections_per_vertex,\n",
    "    \"conv3x3_count\": conv3x3_count,\n",
    "    \"conv1x1_count\": conv1x1_count,\n",
    "    \"maxpool3x3_count\": maxpool3x3_count,\n",
    "    \"validation_accuracy\": val_accs,\n",
    "    \"test_accuracy\": test_acc\n",
    "})\n",
    "\n",
    "show_correlation_matrix(data)"
   ]
  }
 ],
 "metadata": {
  "kernelspec": {
   "display_name": "Python 3",
   "language": "python",
   "name": "python3"
  },
  "language_info": {
   "codemirror_mode": {
    "name": "ipython",
    "version": 3
   },
   "file_extension": ".py",
   "mimetype": "text/x-python",
   "name": "python",
   "nbconvert_exporter": "python",
   "pygments_lexer": "ipython3",
   "version": "3.10.8"
  },
  "orig_nbformat": 4
 },
 "nbformat": 4,
 "nbformat_minor": 2
}
